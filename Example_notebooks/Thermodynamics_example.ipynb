{
 "cells": [
  {
   "cell_type": "code",
   "execution_count": 2,
   "metadata": {},
   "outputs": [
    {
     "ename": "ImportError",
     "evalue": "attempted relative import with no known parent package",
     "output_type": "error",
     "traceback": [
      "\u001b[0;31m---------------------------------------------------------------------------\u001b[0m",
      "\u001b[0;31mImportError\u001b[0m                               Traceback (most recent call last)",
      "Cell \u001b[0;32mIn[2], line 2\u001b[0m\n\u001b[1;32m      1\u001b[0m \u001b[39mimport\u001b[39;00m \u001b[39mnumpy\u001b[39;00m \u001b[39mas\u001b[39;00m \u001b[39mnp\u001b[39;00m\n\u001b[0;32m----> 2\u001b[0m \u001b[39mfrom\u001b[39;00m \u001b[39m.\u001b[39;00m\u001b[39m.\u001b[39;00m\u001b[39mscripts\u001b[39;00m\u001b[39m.\u001b[39;00m\u001b[39mmaterials\u001b[39;00m \u001b[39mimport\u001b[39;00m solid, ideal_gas\n\u001b[1;32m      3\u001b[0m \u001b[39mfrom\u001b[39;00m \u001b[39m.\u001b[39;00m\u001b[39m.\u001b[39;00m\u001b[39mscripts\u001b[39;00m\u001b[39m.\u001b[39;00m\u001b[39mplot_potential\u001b[39;00m \u001b[39mimport\u001b[39;00m plot_potential\n\u001b[1;32m      4\u001b[0m \u001b[39mfrom\u001b[39;00m \u001b[39m.\u001b[39;00m\u001b[39m.\u001b[39;00m\u001b[39mscripts\u001b[39;00m\u001b[39m.\u001b[39;00m\u001b[39mutils\u001b[39;00m \u001b[39mimport\u001b[39;00m phonon_Jmol2eV\n",
      "\u001b[0;31mImportError\u001b[0m: attempted relative import with no known parent package"
     ]
    }
   ],
   "source": [
    "import numpy as np\n",
    "from ..scripts.materials import solid, ideal_gas\n",
    "from ..scripts.plot_potential import plot_potential\n",
    "from ..scripts.utils import phonon_Jmol2eV\n",
    "\n",
    "##Step1: convert phonopy calculated information\n",
    "#phonon_Jmol2eV(file_in='phonopy_in/BaS.dat', file_out='phonopy_output/BaS_n.dat')\n",
    "\n",
    "##Step2: Plot!\n",
    "#For one example reaction\n",
    "CZTS_kesterite = solid(name='Kesterite CZTS',\n",
    "                        stoichiometry={'Cu':2,'Zn':1,'Sn':1,'S':4},\n",
    "                        pbesol_energy_eV=-0.706480597450521e06,\n",
    "                        fu_cell=2, #formula_unit in calculation cell\n",
    "                        volume=310.86645888987351,\n",
    "                        phonons='phonopy_output/czts-conventional.dat', #same name as file_out in the phonopy_output folder\n",
    "                        N=8 #number of atoms per formula_unit\n",
    "                       )\n",
    "\n",
    "CZTS = CZTS_kesterite\n",
    "\n",
    "Cu = solid(name='Cu',\n",
    "           stoichiometry={'Cu':1},\n",
    "           pbesol_energy_eV=-180838.168712673,\n",
    "           fu_cell=4,\n",
    "           volume=45.2576997892,\n",
    "           phonons='phonopy_output/Cu.dat'\n",
    ")\n",
    "\n",
    "beta_Sn = solid(name='Beta Sn',\n",
    "                stoichiometry={'Sn':1},\n",
    "                pbesol_energy_eV=-0.340581412216286E+06,\n",
    "                fu_cell=2,\n",
    "                volume=53.538071915,\n",
    "                phonons='phonopy_output/beta_Sn.dat'\n",
    ")\n",
    "Sn = beta_Sn\n",
    "\n",
    "Zn = solid(name='Zn',\n",
    "           stoichiometry={'Zn':1},\n",
    "           pbesol_energy_eV=-0.981596036898606e05, \n",
    "           fu_cell=2,\n",
    "           volume=28.2580218348,\n",
    "           phonons='phonopy_output/Zn.dat'\n",
    ")\n",
    "\n",
    "S8=ideal_gas(\n",
    "    name='S8',\n",
    "    stoichiometry={'S':8},\n",
    "    pbesol_energy_eV=-0.868936310037924e05,\n",
    "    thermo_file='data/nist_janaf/S8.dat',\n",
    "    zpe_pbesol=0.32891037,\n",
    "    N=8\n",
    ")\n",
    "\n",
    "T = np.linspace(100,1500,100)    # K\n",
    "P = np.array(np.logspace(1,7,100),ndmin=2).transpose() # Pa\n",
    "\n",
    "#Recommended levels = 10 in kJ/mol unit; \n",
    "#Recommended levels = 0.01 in eV unit.\n",
    "D_mu = CZTS.mu_eV(T,P) - (2*Cu.mu_eV(T,P) +\n",
    "                                Zn.mu_eV(T,P) +\n",
    "                                Sn.mu_eV(T,P) +\n",
    "                                0.5*S8.mu_eV(T,P)\n",
    "    )\n",
    "D_mu_label = '$\\Delta G_f$ / kJ mol$^{-1}$'\n",
    "scale_range = [-3.80,4]\n",
    "\n",
    "plot_potential(T,P,D_mu,D_mu_label,scale_range, filename='DG_CZTS_S8_new.png', color='BuPu', levels=10)\n",
    "\n"
   ]
  },
  {
   "cell_type": "code",
   "execution_count": null,
   "metadata": {},
   "outputs": [],
   "source": []
  }
 ],
 "metadata": {
  "kernelspec": {
   "display_name": "Python 3.9.16 64-bit",
   "language": "python",
   "name": "python3"
  },
  "language_info": {
   "codemirror_mode": {
    "name": "ipython",
    "version": 3
   },
   "file_extension": ".py",
   "mimetype": "text/x-python",
   "name": "python",
   "nbconvert_exporter": "python",
   "pygments_lexer": "ipython3",
   "version": "3.9.16"
  },
  "orig_nbformat": 4,
  "vscode": {
   "interpreter": {
    "hash": "397704579725e15f5c7cb49fe5f0341eb7531c82d19f2c29d197e8b64ab5776b"
   }
  }
 },
 "nbformat": 4,
 "nbformat_minor": 2
}
